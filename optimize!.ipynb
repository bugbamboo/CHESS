{
 "cells": [
  {
   "cell_type": "code",
   "execution_count": 1,
   "id": "008c5cb3",
   "metadata": {},
   "outputs": [],
   "source": [
    "import tensorflow as tf\n",
    "\n",
    "tf.config.optimizer.set_jit(True)"
   ]
  },
  {
   "cell_type": "code",
   "execution_count": 2,
   "id": "3d15e430",
   "metadata": {},
   "outputs": [],
   "source": [
    "import tensorflow_model_optimization as tfmot"
   ]
  },
  {
   "cell_type": "code",
   "execution_count": 3,
   "id": "370a7000",
   "metadata": {},
   "outputs": [],
   "source": [
    "import chess"
   ]
  },
  {
   "cell_type": "code",
   "execution_count": 4,
   "id": "1355822f",
   "metadata": {},
   "outputs": [],
   "source": [
    "pieces2 = {\"r\" :-5,\n",
    "           \"R\": 5,\n",
    "           \"n\" : -3,\n",
    "           \"N\": 3,\n",
    "           \"b\" : -3,\n",
    "           \"B\": 3,\n",
    "           \"p\": -1,\n",
    "           \"P\": 1,\n",
    "           \"q\": -9,\n",
    "           \"Q\": 9,\n",
    "           \"k\": 0,\n",
    "           \"K\": 0\n",
    "}\n",
    "def quickeval(boardd):\n",
    "    fen= boardd.fen()\n",
    "    if(boardd.outcome(claim_draw=True) is not None):\n",
    "        if(boardd.outcome(claim_draw=True).result()==\"1-0\"):\n",
    "            return 1000\n",
    "        if(boardd.outcome(claim_draw=True).result()==\"0-1\"):\n",
    "            return -1000\n",
    "        if(boardd.outcome(claim_draw=True).result()==\"1/2-1/2\"):\n",
    "            return 0\n",
    "    parts = fen.split()\n",
    "    board = parts[0]\n",
    "    rows = board.split(\"/\")\n",
    "    board2 =[]\n",
    "    for f in rows:\n",
    "        g=[]\n",
    "        n= list(f)\n",
    "        for s in n:\n",
    "            if s in pieces2:\n",
    "                g.append(pieces2[s])\n",
    "            else:\n",
    "                j=int(s)\n",
    "                d=0\n",
    "                while d < j:\n",
    "                    g.append(0)\n",
    "                    d = d+1\n",
    "        board2.extend(g)\n",
    "    return sum(board2)"
   ]
  },
  {
   "cell_type": "code",
   "execution_count": 5,
   "id": "f33db067",
   "metadata": {},
   "outputs": [],
   "source": [
    "pieces = {\"r\" :-4,\n",
    "           \"R\": 4,\n",
    "           \"n\" : -2,\n",
    "           \"N\": 2,\n",
    "           \"b\" : -3,\n",
    "           \"B\": 3,\n",
    "           \"p\": -1,\n",
    "           \"P\": 1,\n",
    "           \"q\": -5,\n",
    "           \"Q\": 5,\n",
    "           \"k\": -6,\n",
    "           \"K\": 6\n",
    "}\n",
    "\n",
    "diction = {-6:0,6:1,-5:2,5:3,-4:4,4:5,-3:6,3:7,-2:8,2:9,-1:10,1:11}\n",
    "def evaluate(boardd):\n",
    "    fen = boardd.fen()\n",
    "    if(boardd.outcome(claim_draw=True) is not None):\n",
    "        if(boardd.outcome(claim_draw=True).result()==\"1-0\"):\n",
    "            return 1000\n",
    "        if(boardd.outcome(claim_draw=True).result()==\"0-1\"):\n",
    "            return -1000\n",
    "        if(boardd.outcome(claim_draw=True).result()==\"1/2-1/2\"):\n",
    "            return 0\n",
    "    parts = fen.split()\n",
    "    board = parts[0]\n",
    "    rows = board.split(\"/\")\n",
    "    board2 =[]\n",
    "    for f in rows:\n",
    "        g=[]\n",
    "        n= list(f)\n",
    "        for s in n:\n",
    "            if s in pieces:\n",
    "                g.append(pieces[s])\n",
    "            else:\n",
    "                j=int(s)\n",
    "                d=0\n",
    "                while d < j:\n",
    "                    g.append(0)\n",
    "                    d = d+1\n",
    "        board2.extend(g)\n",
    "    board = convert(board2)\n",
    "    preds = chess_model2.predict(board.reshape(1,8,8,12))\n",
    "    prediction = scaler.inverse_transform(preds).reshape(-1)[0]\n",
    "    return prediction+0.6*quickeval(boardd)\n",
    "def convert (inboard):\n",
    "    board = np.zeros((8,8,12))\n",
    "    for i in range(64):\n",
    "        if inboard[i]!=0:\n",
    "            board[int(i/8)][i%8][diction[inboard[i]]]=1\n",
    "            board[int(i/8)][i%8][diction[-1*inboard[i]]]=-1\n",
    "    return board"
   ]
  },
  {
   "cell_type": "code",
   "execution_count": 6,
   "id": "f950827b",
   "metadata": {},
   "outputs": [],
   "source": [
    "chess_model2 = tf.keras.models.load_model('chessmodelOptimize.hdf5')"
   ]
  },
  {
   "cell_type": "code",
   "execution_count": 7,
   "id": "0d1f34a5",
   "metadata": {},
   "outputs": [],
   "source": [
    "import pickle"
   ]
  },
  {
   "cell_type": "code",
   "execution_count": 8,
   "id": "92f14190",
   "metadata": {},
   "outputs": [],
   "source": [
    "file = open('scaler.pickle', 'rb')"
   ]
  },
  {
   "cell_type": "code",
   "execution_count": 9,
   "id": "c414fcd5",
   "metadata": {},
   "outputs": [],
   "source": [
    "scaler=pickle.load(file)\n",
    "file.close()"
   ]
  },
  {
   "cell_type": "code",
   "execution_count": 15,
   "id": "5c4e689d",
   "metadata": {},
   "outputs": [],
   "source": [
    "meow= chess.Board()"
   ]
  },
  {
   "cell_type": "code",
   "execution_count": 17,
   "id": "f648e355",
   "metadata": {},
   "outputs": [],
   "source": [
    "import numpy as np"
   ]
  },
  {
   "cell_type": "code",
   "execution_count": 20,
   "id": "42fce71a",
   "metadata": {},
   "outputs": [
    {
     "name": "stdout",
     "output_type": "stream",
     "text": [
      "30.5 ms ± 208 µs per loop (mean ± std. dev. of 7 runs, 10 loops each)\n"
     ]
    }
   ],
   "source": [
    "%timeit evaluate(meow)"
   ]
  },
  {
   "cell_type": "code",
   "execution_count": 23,
   "id": "7fc8fb4c",
   "metadata": {},
   "outputs": [
    {
     "ename": "AttributeError",
     "evalue": "module 'tensorflow._api.v2.lite' has no attribute 'TocoConverter'",
     "output_type": "error",
     "traceback": [
      "\u001b[1;31m---------------------------------------------------------------------------\u001b[0m",
      "\u001b[1;31mAttributeError\u001b[0m                            Traceback (most recent call last)",
      "\u001b[1;32m<ipython-input-23-ba22e4861f70>\u001b[0m in \u001b[0;36m<module>\u001b[1;34m\u001b[0m\n\u001b[1;32m----> 1\u001b[1;33m \u001b[0mconverter\u001b[0m\u001b[1;33m=\u001b[0m\u001b[0mtf\u001b[0m\u001b[1;33m.\u001b[0m\u001b[0mlite\u001b[0m\u001b[1;33m.\u001b[0m\u001b[0mTocoConverter\u001b[0m\u001b[1;33m.\u001b[0m\u001b[0mfrom_saved_model\u001b[0m\u001b[1;33m(\u001b[0m\u001b[1;34m'chessmodelOptimize.hdf5'\u001b[0m\u001b[1;33m)\u001b[0m\u001b[1;33m\u001b[0m\u001b[1;33m\u001b[0m\u001b[0m\n\u001b[0m\u001b[0;32m      2\u001b[0m \u001b[0mconverter\u001b[0m\u001b[1;33m.\u001b[0m\u001b[0mpost_training_quantize\u001b[0m\u001b[1;33m=\u001b[0m\u001b[1;32mTrue\u001b[0m\u001b[1;33m\u001b[0m\u001b[1;33m\u001b[0m\u001b[0m\n\u001b[0;32m      3\u001b[0m \u001b[0mtflite_quantized_model\u001b[0m\u001b[1;33m=\u001b[0m\u001b[0mconverter\u001b[0m\u001b[1;33m.\u001b[0m\u001b[0mconvert\u001b[0m\u001b[1;33m(\u001b[0m\u001b[1;33m)\u001b[0m\u001b[1;33m\u001b[0m\u001b[1;33m\u001b[0m\u001b[0m\n\u001b[0;32m      4\u001b[0m \u001b[0mopen\u001b[0m\u001b[1;33m(\u001b[0m\u001b[1;34m\"quantized_model.tflite\"\u001b[0m\u001b[1;33m,\u001b[0m \u001b[1;34m\"wb\"\u001b[0m\u001b[1;33m)\u001b[0m\u001b[1;33m.\u001b[0m\u001b[0mwrite\u001b[0m\u001b[1;33m(\u001b[0m\u001b[0mtflite_quantized_model\u001b[0m\u001b[1;33m)\u001b[0m\u001b[1;33m\u001b[0m\u001b[1;33m\u001b[0m\u001b[0m\n",
      "\u001b[1;31mAttributeError\u001b[0m: module 'tensorflow._api.v2.lite' has no attribute 'TocoConverter'"
     ]
    }
   ],
   "source": [
    "converter=tf.lite.TocoConverter.from_saved_model('chessmodelOptimize.hdf5')\n",
    "converter.post_training_quantize=True\n",
    "tflite_quantized_model=converter.convert()\n",
    "open(\"quantized_model.tflite\", \"wb\").write(tflite_quantized_model)"
   ]
  },
  {
   "cell_type": "code",
   "execution_count": 29,
   "id": "debd38ab",
   "metadata": {},
   "outputs": [
    {
     "name": "stdout",
     "output_type": "stream",
     "text": [
      "INFO:tensorflow:Assets written to: C:\\Users\\ACHYUT~1\\AppData\\Local\\Temp\\tmpa0o3hl6a\\assets\n"
     ]
    },
    {
     "name": "stderr",
     "output_type": "stream",
     "text": [
      "INFO:tensorflow:Assets written to: C:\\Users\\ACHYUT~1\\AppData\\Local\\Temp\\tmpa0o3hl6a\\assets\n"
     ]
    }
   ],
   "source": [
    "converter = tf.lite.TFLiteConverter.from_keras_model(chess_model2)\n",
    "converter.optimizations = [tf.lite.Optimize.DEFAULT]\n",
    "quantized_and_pruned_tflite_model = converter.convert()\n",
    "\n",
    "quantized_and_pruned_tflite_file = 'model.tflite'\n",
    "\n",
    "with open(quantized_and_pruned_tflite_file, 'wb') as f:\n",
    "    f.write(quantized_and_pruned_tflite_model)"
   ]
  },
  {
   "cell_type": "code",
   "execution_count": 30,
   "id": "9068977a",
   "metadata": {},
   "outputs": [],
   "source": [
    "f.close()"
   ]
  },
  {
   "cell_type": "code",
   "execution_count": null,
   "id": "a8343336",
   "metadata": {},
   "outputs": [],
   "source": [
    "tf.lite."
   ]
  }
 ],
 "metadata": {
  "kernelspec": {
   "display_name": "Python 3",
   "language": "python",
   "name": "python3"
  },
  "language_info": {
   "codemirror_mode": {
    "name": "ipython",
    "version": 3
   },
   "file_extension": ".py",
   "mimetype": "text/x-python",
   "name": "python",
   "nbconvert_exporter": "python",
   "pygments_lexer": "ipython3",
   "version": "3.7.10"
  }
 },
 "nbformat": 4,
 "nbformat_minor": 5
}
